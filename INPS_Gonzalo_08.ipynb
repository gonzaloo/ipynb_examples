{
 "metadata": {
  "name": "",
  "signature": "sha256:203bd24a0c9adaef74cfe6079c6f071d89b056bfbf3ec19d9dad36314b5f1b51"
 },
 "nbformat": 3,
 "nbformat_minor": 0,
 "worksheets": [
  {
   "cells": [
    {
     "cell_type": "heading",
     "level": 1,
     "metadata": {},
     "source": [
      "Week 8 - Numerical integration"
     ]
    },
    {
     "cell_type": "heading",
     "level": 3,
     "metadata": {},
     "source": [
      "Gonzalo Antonio Orellana Garcia"
     ]
    },
    {
     "cell_type": "heading",
     "level": 3,
     "metadata": {},
     "source": [
      "Introduction to Numerical Problem Solving, Metropolia UAS Helsinki"
     ]
    },
    {
     "cell_type": "heading",
     "level": 2,
     "metadata": {},
     "source": [
      "Problem 1."
     ]
    },
    {
     "cell_type": "code",
     "collapsed": false,
     "input": [
      "%pylab inline\n",
      "import numpy as np\n",
      "import pandas as pd\n",
      "from __future__ import division\n",
      "from scipy.optimize import fsolve"
     ],
     "language": "python",
     "metadata": {},
     "outputs": [
      {
       "output_type": "stream",
       "stream": "stdout",
       "text": [
        "Populating the interactive namespace from numpy and matplotlib\n"
       ]
      },
      {
       "output_type": "stream",
       "stream": "stderr",
       "text": [
        "WARNING: pylab import has clobbered these variables: ['f']\n",
        "`%matplotlib` prevents importing * from pylab and numpy\n"
       ]
      }
     ],
     "prompt_number": 45
    },
    {
     "cell_type": "code",
     "collapsed": false,
     "input": [
      "x = arange(0,5.1,0.1)\n",
      "y = 3 * x**2\n",
      "plot(x,y)\n",
      "title('y=3x^2')\n",
      "xlabel('x-axis')\n",
      "ylabel('y-axis')\n",
      "grid()"
     ],
     "language": "python",
     "metadata": {},
     "outputs": [
      {
       "metadata": {},
       "output_type": "display_data",
       "png": "[encoded data removed]",
       "text": [
        "<matplotlib.figure.Figure at 0x5691b90>"
       ]
      }
     ],
     "prompt_number": 46
    },
    {
     "cell_type": "code",
     "collapsed": false,
     "input": [
      "def reimann(f,a,b,N):\n",
      "    h = (b-a)/N\n",
      "    s = h/2*(f(a) + f(b))\n",
      "    for n in range (1,N):\n",
      "        x = a + n*h\n",
      "        s = s + f(x)*h\n",
      "    return s\n",
      "\n",
      "f = lambda x: 3*x**2  #anonymous function    "
     ],
     "language": "python",
     "metadata": {},
     "outputs": [],
     "prompt_number": 47
    },
    {
     "cell_type": "code",
     "collapsed": false,
     "input": [
      "for N in (1,2,4,8,16,32,64,128,256,512,1024,2048):\n",
      "    print '# of rectangles used:',N,'\\n','Area under the curve:',reimann(f,0,5,N),'units^2 \\n'"
     ],
     "language": "python",
     "metadata": {},
     "outputs": [
      {
       "output_type": "stream",
       "stream": "stdout",
       "text": [
        "# of rectangles used: 1 \n",
        "Area under the curve: 187.5 units^2 \n",
        "\n",
        "# of rectangles used: 2 \n",
        "Area under the curve: 140.625 units^2 \n",
        "\n",
        "# of rectangles used: 4 \n",
        "Area under the curve: 128.90625 units^2 \n",
        "\n",
        "# of rectangles used: 8 \n",
        "Area under the curve: 125.9765625 units^2 \n",
        "\n",
        "# of rectangles used: 16 \n",
        "Area under the curve: 125.244140625 units^2 \n",
        "\n",
        "# of rectangles used: 32 \n",
        "Area under the curve: 125.061035156 units^2 \n",
        "\n",
        "# of rectangles used: 64 \n",
        "Area under the curve: 125.015258789 units^2 \n",
        "\n",
        "# of rectangles used: 128 \n",
        "Area under the curve: 125.003814697 units^2 \n",
        "\n",
        "# of rectangles used: 256 \n",
        "Area under the curve: 125.000953674 units^2 \n",
        "\n",
        "# of rectangles used: 512 \n",
        "Area under the curve: 125.000238419 units^2 \n",
        "\n",
        "# of rectangles used: 1024 \n",
        "Area under the curve: 125.000059605 units^2 \n",
        "\n",
        "# of rectangles used: 2048 \n",
        "Area under the curve: 125.000014901 units^2 \n",
        "\n"
       ]
      }
     ],
     "prompt_number": 48
    },
    {
     "cell_type": "code",
     "collapsed": false,
     "input": [
      "#The most narrow the rectangles are, the most they adapt to the shape of the function, thus, the most precise the result is.\n",
      "#There were required between 64 and 128 squares (in my case)."
     ],
     "language": "python",
     "metadata": {},
     "outputs": [],
     "prompt_number": 49
    },
    {
     "cell_type": "heading",
     "level": 2,
     "metadata": {},
     "source": [
      "Problem 2."
     ]
    },
    {
     "cell_type": "code",
     "collapsed": false,
     "input": [
      "v = lambda t : 25 - 3*t\n",
      "t = arange(0,15.1,.1)\n",
      "plot(t,v(t),'r')\n",
      "title('v(t) = 25 - 3t')\n",
      "xlabel('time')\n",
      "ylabel('speed')"
     ],
     "language": "python",
     "metadata": {},
     "outputs": [
      {
       "metadata": {},
       "output_type": "pyout",
       "prompt_number": 50,
       "text": [
        "<matplotlib.text.Text at 0x56b3a10>"
       ]
      },
      {
       "metadata": {},
       "output_type": "display_data",
       "png": "[encoded data removed]",
       "text": [
        "<matplotlib.figure.Figure at 0x569da50>"
       ]
      }
     ],
     "prompt_number": 50
    },
    {
     "cell_type": "code",
     "collapsed": false,
     "input": [
      "t_stp = fsolve(v,0)\n",
      "print 'The car stops after',t_stp[0],'seconds.'"
     ],
     "language": "python",
     "metadata": {},
     "outputs": [
      {
       "output_type": "stream",
       "stream": "stdout",
       "text": [
        "The car stops after 8.33333333333 seconds.\n"
       ]
      }
     ],
     "prompt_number": 51
    },
    {
     "cell_type": "code",
     "collapsed": false,
     "input": [
      "print 'The car traveled approximately', reimann(v,0,t_stp[0],2000),'meters before stopping.'"
     ],
     "language": "python",
     "metadata": {},
     "outputs": [
      {
       "output_type": "stream",
       "stream": "stdout",
       "text": [
        "The car traveled approximately 104.166666667 meters before stopping.\n"
       ]
      }
     ],
     "prompt_number": 52
    },
    {
     "cell_type": "code",
     "collapsed": false,
     "input": [
      "v = lambda t : 25 * exp(-1.2*t)\n",
      "t = arange(0,20.1,.1)\n",
      "plot(t,v(t),'g')\n",
      "title('v(t) = 25e^-1.2t')\n",
      "xlabel('time')\n",
      "ylabel('speed')"
     ],
     "language": "python",
     "metadata": {},
     "outputs": [
      {
       "metadata": {},
       "output_type": "pyout",
       "prompt_number": 53,
       "text": [
        "<matplotlib.text.Text at 0x56a33d0>"
       ]
      },
      {
       "metadata": {},
       "output_type": "display_data",
       "png": "[encoded data removed]",
       "text": [
        "<matplotlib.figure.Figure at 0x56a5050>"
       ]
      }
     ],
     "prompt_number": 53
    },
    {
     "cell_type": "code",
     "collapsed": false,
     "input": [
      "t_stp = fsolve(v,0)\n",
      "print 'The car stops after',t_stp[0],'seconds.'"
     ],
     "language": "python",
     "metadata": {},
     "outputs": [
      {
       "output_type": "stream",
       "stream": "stdout",
       "text": [
        "The car stops after 230.083399411 seconds.\n"
       ]
      }
     ],
     "prompt_number": 54
    },
    {
     "cell_type": "code",
     "collapsed": false,
     "input": [
      "print 'The car traveled approximately', reimann(v,0,t_stp[0],2000),'meters before stopping.'"
     ],
     "language": "python",
     "metadata": {},
     "outputs": [
      {
       "output_type": "stream",
       "stream": "stdout",
       "text": [
        "The car traveled approximately 20.8664093105 meters before stopping.\n"
       ]
      }
     ],
     "prompt_number": 55
    },
    {
     "cell_type": "code",
     "collapsed": false,
     "input": [
      "#Though this is a huge approximation, due to the natural behavior of an exponential function, theoretically the car never stops."
     ],
     "language": "python",
     "metadata": {},
     "outputs": [],
     "prompt_number": 56
    },
    {
     "cell_type": "heading",
     "level": 2,
     "metadata": {},
     "source": [
      "Problem 3."
     ]
    },
    {
     "cell_type": "code",
     "collapsed": false,
     "input": [
      "# Address for the file\n",
      "filename = 'http://users.metropolia.fi/~tommiluk/Notebooks/NPS/bicycling.csv'\n",
      "\n",
      "# Read in the csv-file. \n",
      "# Use ';' as separator.\n",
      "# Parse the first column as date/time\n",
      "# Make 'Time' column as index\n",
      "data = pd.read_csv(filename, ';', parse_dates = {'Time'}, index_col = 'Time')\n",
      "\n",
      "# Show the data\n",
      "data\n",
      "\n",
      "# Plot the data\n",
      "data.plot()\n",
      "\n",
      "# The original data is unevenly sampled. \n",
      "# Convert the data so that you have evenly sampled data for every minute.\n",
      "converted = data.asfreq('1Min', method='backfill')\n",
      "\n",
      "# Get the time and speed data\n",
      "time = converted.index\n",
      "speed = converted['Speed']"
     ],
     "language": "python",
     "metadata": {},
     "outputs": [
      {
       "metadata": {},
       "output_type": "display_data",
       "png": "[encoded data removed]",
       "text": [
        "<matplotlib.figure.Figure at 0x56b0390>"
       ]
      }
     ],
     "prompt_number": 57
    },
    {
     "cell_type": "code",
     "collapsed": false,
     "input": [
      "speed"
     ],
     "language": "python",
     "metadata": {},
     "outputs": [
      {
       "metadata": {},
       "output_type": "pyout",
       "prompt_number": 58,
       "text": [
        "2014-06-12 00:03:41     8.1\n",
        "2014-06-12 00:04:41    15.0\n",
        "2014-06-12 00:05:41    15.0\n",
        "2014-06-12 00:06:41    12.5\n",
        "2014-06-12 00:07:41    12.5\n",
        "2014-06-12 00:08:41    19.2\n",
        "2014-06-12 00:09:41    18.7\n",
        "2014-06-12 00:10:41    18.7\n",
        "2014-06-12 00:11:41    20.1\n",
        "2014-06-12 00:12:41    20.1\n",
        "2014-06-12 00:13:41    16.0\n",
        "2014-06-12 00:14:41    20.1\n",
        "2014-06-12 00:15:41    20.1\n",
        "2014-06-12 00:16:41    13.6\n",
        "2014-06-12 00:17:41    13.6\n",
        "2014-06-12 00:18:41    11.6\n",
        "2014-06-12 00:19:41    11.6\n",
        "2014-06-12 00:20:41    11.6\n",
        "2014-06-12 00:21:41    18.9\n",
        "2014-06-12 00:22:41    19.1\n",
        "2014-06-12 00:23:41    19.1\n",
        "2014-06-12 00:24:41    15.2\n",
        "2014-06-12 00:25:41    15.2\n",
        "2014-06-12 00:26:41    19.2\n",
        "2014-06-12 00:27:41     NaN\n",
        "Freq: T, Name: Speed, dtype: float64"
       ]
      }
     ],
     "prompt_number": 58
    },
    {
     "cell_type": "code",
     "collapsed": false,
     "input": [
      "aspeed = sum(speed)/(len(speed)-1)\n",
      "print 'The average speed of the biker was:',aspeed,'Km/h.'   #I assumed the speed was given in Km/h"
     ],
     "language": "python",
     "metadata": {},
     "outputs": [
      {
       "output_type": "stream",
       "stream": "stdout",
       "text": [
        "The average speed of the biker was: 16.0333333333 Km/h.\n"
       ]
      }
     ],
     "prompt_number": 59
    },
    {
     "cell_type": "code",
     "collapsed": false,
     "input": [
      "print 'The speed variated in +/-',std(speed),'Km/h.'"
     ],
     "language": "python",
     "metadata": {},
     "outputs": [
      {
       "output_type": "stream",
       "stream": "stdout",
       "text": [
        "The speed variated in +/- 3.47427050696 Km/h.\n"
       ]
      }
     ],
     "prompt_number": 60
    },
    {
     "cell_type": "code",
     "collapsed": false,
     "input": [
      "print (time[-2]-time[0])"
     ],
     "language": "python",
     "metadata": {},
     "outputs": [
      {
       "output_type": "stream",
       "stream": "stdout",
       "text": [
        "0:23:00\n"
       ]
      }
     ],
     "prompt_number": 61
    },
    {
     "cell_type": "code",
     "collapsed": false,
     "input": [
      "print 'The approximate total distance covered by the biker was:',aspeed*23/60,'Km.'"
     ],
     "language": "python",
     "metadata": {},
     "outputs": [
      {
       "output_type": "stream",
       "stream": "stdout",
       "text": [
        "The approximate total distance covered by the biker was: 6.14611111111 Km.\n"
       ]
      }
     ],
     "prompt_number": 62
    },
    {
     "cell_type": "code",
     "collapsed": false,
     "input": [
      "#I confess my laziness here, the total distance could be calculated using Reimman sum by founding the function and limits of each\n",
      "#section of the graph."
     ],
     "language": "python",
     "metadata": {},
     "outputs": [],
     "prompt_number": 63
    }
   ],
   "metadata": {}
  }
 ]
}