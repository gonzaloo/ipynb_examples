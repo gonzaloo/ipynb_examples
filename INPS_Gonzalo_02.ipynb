{
 "metadata": {
  "name": "",
  "signature": "sha256:5ed8ed117ab7e7da702cbd9f55679cef9b9dbadeeba9af4d3411d46e93c57c5e"
 },
 "nbformat": 3,
 "nbformat_minor": 0,
 "worksheets": [
  {
   "cells": [
    {
     "cell_type": "heading",
     "level": 1,
     "metadata": {},
     "source": [
      "Week 1 - Basics of modeling."
     ]
    },
    {
     "cell_type": "heading",
     "level": 2,
     "metadata": {},
     "source": [
      "Gonzalo Antonio Orellana Garc\u00eda"
     ]
    },
    {
     "cell_type": "heading",
     "level": 3,
     "metadata": {},
     "source": [
      "Introduction to Numerical Problem Solving, Metropolia UAS, IT Engineering"
     ]
    },
    {
     "cell_type": "code",
     "collapsed": false,
     "input": [
      "%pylab inline\n",
      "from __future__ import division"
     ],
     "language": "python",
     "metadata": {},
     "outputs": [
      {
       "output_type": "stream",
       "stream": "stdout",
       "text": [
        "Populating the interactive namespace from numpy and matplotlib\n"
       ]
      }
     ],
     "prompt_number": 2
    },
    {
     "cell_type": "heading",
     "level": 1,
     "metadata": {},
     "source": [
      "Problem 1. Spring-mass system."
     ]
    },
    {
     "cell_type": "code",
     "collapsed": false,
     "input": [
      "# The magnitude of the force applied to a spring is proportional to the extension of the said spring; we use a constant of\n",
      "# proportionality \"k\", so F = k*x + b.\n",
      "# The assumption that the mass is hanging from the spring was made, so the mass will be multiplied by 980 cm\u00b7s^-2."
     ],
     "language": "python",
     "metadata": {},
     "outputs": [],
     "prompt_number": 3
    },
    {
     "cell_type": "code",
     "collapsed": false,
     "input": [
      "mass = arange(50,600,50)\n",
      "force = mass * 980\n",
      "elong = array([1,1.875,2.75,3.25,4.375,4.875,5.675,6.5,7.25,8,8.75])\n",
      "#With the data a first degree system equations is solved to have the\n",
      "#values of \"k\"and \"b\"\n",
      "k = 63656\n",
      "b = 20231\n",
      "spring = k * elong - b"
     ],
     "language": "python",
     "metadata": {},
     "outputs": [],
     "prompt_number": 4
    },
    {
     "cell_type": "code",
     "collapsed": false,
     "input": [
      "print(force)\n",
      "print(spring)"
     ],
     "language": "python",
     "metadata": {},
     "outputs": [
      {
       "output_type": "stream",
       "stream": "stdout",
       "text": [
        "[ 49000  98000 147000 196000 245000 294000 343000 392000 441000 490000\n",
        " 539000]\n",
        "[  43425.    99124.   154823.   186651.   258264.   290092.   341016.8\n",
        "  393533.   441275.   489017.   536759. ]\n"
       ]
      }
     ],
     "prompt_number": 5
    },
    {
     "cell_type": "code",
     "collapsed": false,
     "input": [
      "plot(elong,force,'bD')\n",
      "plot(elong,spring,'ro-')"
     ],
     "language": "python",
     "metadata": {},
     "outputs": [
      {
       "metadata": {},
       "output_type": "pyout",
       "prompt_number": 6,
       "text": [
        "[<matplotlib.lines.Line2D at 0x23bf690>]"
       ]
      },
      {
       "metadata": {},
       "output_type": "display_data",
       "png": "[encoded data removed]",
       "text": [
        "<matplotlib.figure.Figure at 0x23bf410>"
       ]
      }
     ],
     "prompt_number": 6
    },
    {
     "cell_type": "heading",
     "level": 1,
     "metadata": {},
     "source": [
      "Problem 2. Sheep population."
     ]
    },
    {
     "cell_type": "code",
     "collapsed": false,
     "input": [
      "#With the data a model can be constructed using the points P1 and P6"
     ],
     "language": "python",
     "metadata": {},
     "outputs": [],
     "prompt_number": 7
    },
    {
     "cell_type": "code",
     "collapsed": false,
     "input": [
      "year = array([1814, 1824, 1834, 1844, 1854, 1864])\n",
      "population = array([125, 275, 830, 1200, 1750, 1650])\n",
      "#y = k1 * x + c\n",
      "k1 = 30.5\n",
      "c = -55202\n",
      "y = k1 * year + c"
     ],
     "language": "python",
     "metadata": {},
     "outputs": [],
     "prompt_number": 8
    },
    {
     "cell_type": "code",
     "collapsed": false,
     "input": [
      "print(population)\n",
      "print(y)"
     ],
     "language": "python",
     "metadata": {},
     "outputs": [
      {
       "output_type": "stream",
       "stream": "stdout",
       "text": [
        "[ 125  275  830 1200 1750 1650]\n",
        "[  125.   430.   735.  1040.  1345.  1650.]\n"
       ]
      }
     ],
     "prompt_number": 9
    },
    {
     "cell_type": "code",
     "collapsed": false,
     "input": [
      "plot(year , population, 'bD')\n",
      "plot(year, y, 'ro-')"
     ],
     "language": "python",
     "metadata": {},
     "outputs": [
      {
       "metadata": {},
       "output_type": "pyout",
       "prompt_number": 10,
       "text": [
        "[<matplotlib.lines.Line2D at 0x24b3350>]"
       ]
      },
      {
       "metadata": {},
       "output_type": "display_data",
       "png": "[encoded data removed]",
       "text": [
        "<matplotlib.figure.Figure at 0x24b3a50>"
       ]
      }
     ],
     "prompt_number": 10
    },
    {
     "cell_type": "code",
     "collapsed": false,
     "input": [
      "#In the first approximation there is not an equal distribution of points on either side of the line, so the model has to change,\n",
      "#this time using the P3 and P4 points."
     ],
     "language": "python",
     "metadata": {},
     "outputs": [],
     "prompt_number": 11
    },
    {
     "cell_type": "code",
     "collapsed": false,
     "input": [
      "k2 = 37\n",
      "c2 = -67028\n",
      "y2 = k2 * year + c2\n",
      "print(population)\n",
      "print(y2)"
     ],
     "language": "python",
     "metadata": {},
     "outputs": [
      {
       "output_type": "stream",
       "stream": "stdout",
       "text": [
        "[ 125  275  830 1200 1750 1650]\n",
        "[  90  460  830 1200 1570 1940]\n"
       ]
      }
     ],
     "prompt_number": 12
    },
    {
     "cell_type": "code",
     "collapsed": false,
     "input": [
      "plot(year , population, 'bD')\n",
      "plot(year, y2, 'ro-')"
     ],
     "language": "python",
     "metadata": {},
     "outputs": [
      {
       "metadata": {},
       "output_type": "pyout",
       "prompt_number": 13,
       "text": [
        "[<matplotlib.lines.Line2D at 0x25af6d0>]"
       ]
      },
      {
       "metadata": {},
       "output_type": "display_data",
       "png": "[encoded data removed]",
       "text": [
        "<matplotlib.figure.Figure at 0x25af890>"
       ]
      }
     ],
     "prompt_number": 13
    },
    {
     "cell_type": "code",
     "collapsed": false,
     "input": [
      "#In this model the points are more distributed on either sides of the line."
     ],
     "language": "python",
     "metadata": {},
     "outputs": [],
     "prompt_number": 14
    },
    {
     "cell_type": "heading",
     "level": 1,
     "metadata": {},
     "source": [
      "Problem 3. Cooling experiment"
     ]
    },
    {
     "cell_type": "code",
     "collapsed": false,
     "input": [
      "time = array([0,1,2,3,4,5,6,7,8,10,15,22,26,30])\n",
      "temperature = array([79.5,77.9,76.3,73.5,72.5,71.0,69.3,67.9,66.5,64.2,59.0,53.4,50.8,48.4])\n",
      "#Solving for y = kx + c\n",
      "k5 = -1.0579\n",
      "c5 = 76.674\n",
      "y5 = k5 * time + c5\n",
      "plot(time, temperature, 'bo')\n",
      "plot(time, y5, 'rx-')"
     ],
     "language": "python",
     "metadata": {},
     "outputs": [
      {
       "metadata": {},
       "output_type": "pyout",
       "prompt_number": 15,
       "text": [
        "[<matplotlib.lines.Line2D at 0x25c3bd0>]"
       ]
      },
      {
       "metadata": {},
       "output_type": "display_data",
       "png": "[encoded data removed]",
       "text": [
        "<matplotlib.figure.Figure at 0x25c3690>"
       ]
      }
     ],
     "prompt_number": 15
    },
    {
     "cell_type": "code",
     "collapsed": false,
     "input": [
      "#Solving for y = ax^2 + bx + c\n",
      "a6 = 0.021491\n",
      "b6 = -1.5952\n",
      "c6 = 78.092\n",
      "y6 = a6 * (time)**2 + b6 * time + c6\n",
      "plot(time, temperature, 'bo')\n",
      "plot(time, y6, 'rx-')"
     ],
     "language": "python",
     "metadata": {},
     "outputs": [
      {
       "metadata": {},
       "output_type": "pyout",
       "prompt_number": 16,
       "text": [
        "[<matplotlib.lines.Line2D at 0x2809490>]"
       ]
      },
      {
       "metadata": {},
       "output_type": "display_data",
       "png": "[encoded data removed]",
       "text": [
        "<matplotlib.figure.Figure at 0x28096d0>"
       ]
      }
     ],
     "prompt_number": 16
    },
    {
     "cell_type": "code",
     "collapsed": false,
     "input": [
      "#Solving for y = a ln x + b\n",
      "a7 = -10.088\n",
      "b7 = 84.583\n",
      "y7 = a7 * log(time) + b7\n",
      "plot(time, temperature, 'bo')\n",
      "plot(time, y7, 'rx-')"
     ],
     "language": "python",
     "metadata": {},
     "outputs": [
      {
       "output_type": "stream",
       "stream": "stderr",
       "text": [
        "-c:4: RuntimeWarning: divide by zero encountered in log\n"
       ]
      },
      {
       "metadata": {},
       "output_type": "pyout",
       "prompt_number": 17,
       "text": [
        "[<matplotlib.lines.Line2D at 0x24a1e50>]"
       ]
      },
      {
       "metadata": {},
       "output_type": "display_data",
       "png": "[encoded data removed]",
       "text": [
        "<matplotlib.figure.Figure at 0x24c17d0>"
       ]
      }
     ],
     "prompt_number": 17
    },
    {
     "cell_type": "code",
     "collapsed": false,
     "input": [
      "#Solving for y = a e^(kt) + b\n",
      "a8 = 41.1359\n",
      "b8 = 37.3049\n",
      "k8 = -0.0426532\n",
      "y8 = a8 * e**(k8 * time) + b8\n",
      "plot(time, temperature, 'bo')\n",
      "plot(time, y8, 'rx-')"
     ],
     "language": "python",
     "metadata": {},
     "outputs": [
      {
       "metadata": {},
       "output_type": "pyout",
       "prompt_number": 18,
       "text": [
        "[<matplotlib.lines.Line2D at 0x2b5f8d0>]"
       ]
      },
      {
       "metadata": {},
       "output_type": "display_data",
       "png": "[encoded data removed]",
       "text": [
        "<matplotlib.figure.Figure at 0x2b5fa50>"
       ]
      }
     ],
     "prompt_number": 18
    },
    {
     "cell_type": "code",
     "collapsed": false,
     "input": [
      "#The best fit is that of the exponential model."
     ],
     "language": "python",
     "metadata": {},
     "outputs": [],
     "prompt_number": 1
    },
    {
     "cell_type": "code",
     "collapsed": false,
     "input": [
      "#We can't have the infomation with this model on when the water will be at room's temperature because that is an asymptote."
     ],
     "language": "python",
     "metadata": {},
     "outputs": [],
     "prompt_number": 19
    },
    {
     "cell_type": "code",
     "collapsed": false,
     "input": [],
     "language": "python",
     "metadata": {},
     "outputs": []
    }
   ],
   "metadata": {}
  }
 ]
}