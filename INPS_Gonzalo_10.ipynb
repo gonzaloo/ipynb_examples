{
 "metadata": {
  "name": "",
  "signature": "sha256:c1f893f251e960e78950e5924d89e5ba828d89f7d9d7e36089360349ff1590b0"
 },
 "nbformat": 3,
 "nbformat_minor": 0,
 "worksheets": []
}