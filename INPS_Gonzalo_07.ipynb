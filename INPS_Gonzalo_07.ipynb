{
 "metadata": {
  "name": "",
  "signature": "sha256:73a86f3416e2d09dbf587d6bcbcaea7d57221b7482a5d5ed3470e5b36644b48f"
 },
 "nbformat": 3,
 "nbformat_minor": 0,
 "worksheets": [
  {
   "cells": [
    {
     "cell_type": "heading",
     "level": 1,
     "metadata": {},
     "source": [
      "Week 7 - Statistical analysis"
     ]
    },
    {
     "cell_type": "heading",
     "level": 3,
     "metadata": {},
     "source": [
      "Gonzalo Antonio Orellana Garcia"
     ]
    },
    {
     "cell_type": "heading",
     "level": 3,
     "metadata": {},
     "source": [
      "Introduction to Numerical Problem Solving, Metropolia UAS Helsinki"
     ]
    },
    {
     "cell_type": "heading",
     "level": 2,
     "metadata": {},
     "source": [
      "Problem 1."
     ]
    },
    {
     "cell_type": "code",
     "collapsed": false,
     "input": [
      "%pylab inline\n",
      "import numpy as np\n",
      "import pandas as pd\n",
      "from __future__ import division"
     ],
     "language": "python",
     "metadata": {},
     "outputs": [
      {
       "output_type": "stream",
       "stream": "stdout",
       "text": [
        "Populating the interactive namespace from numpy and matplotlib\n"
       ]
      }
     ],
     "prompt_number": 37
    },
    {
     "cell_type": "code",
     "collapsed": false,
     "input": [
      "x1 = r_[10.0, 8.00, 13.0, 9.00, 11.0, 14.0, 6.00, 4.00, 12.00, 7.00, 5.00]\n",
      "y1 = r_[8.04, 6.95, 7.58, 8.81, 8.33, 9.96, 7.24, 4.26, 10.84, 4.82, 5.68]"
     ],
     "language": "python",
     "metadata": {},
     "outputs": [],
     "prompt_number": 38
    },
    {
     "cell_type": "code",
     "collapsed": false,
     "input": [
      "x2 = r_[10.0, 8.00, 13.0, 9.00, 11.0, 14.0, 6.00, 4.00, 12.00, 7.00, 5.00]\n",
      "y2 = r_[9.14, 8.14, 8.74, 8.77, 9.26, 8.10, 6.13, 3.10,  9.13, 7.26, 4.74]"
     ],
     "language": "python",
     "metadata": {},
     "outputs": [],
     "prompt_number": 39
    },
    {
     "cell_type": "code",
     "collapsed": false,
     "input": [
      "x3 = r_[10.0, 8.00, 13.0, 9.00, 11.0, 14.0, 6.00, 4.00, 12.00, 7.00, 5.00]\n",
      "y3 = r_[7.46, 6.77, 12.74, 7.11, 7.81, 8.84, 6.08, 5.39, 8.15, 6.42, 5.73]"
     ],
     "language": "python",
     "metadata": {},
     "outputs": [],
     "prompt_number": 40
    },
    {
     "cell_type": "code",
     "collapsed": false,
     "input": [
      "x4 = r_[8.00, 8.00, 8.00, 8.00, 8.00, 8.00, 8.00, 19.00, 8.00, 8.00, 8.00]\n",
      "y4 = r_[6.58, 5.76, 7.71, 8.84, 8.47, 7.04, 5.25, 12.50, 5.56, 7.91, 6.89]"
     ],
     "language": "python",
     "metadata": {},
     "outputs": [],
     "prompt_number": 41
    },
    {
     "cell_type": "code",
     "collapsed": false,
     "input": [
      "#Finding the mean of the data\n",
      "mean_x = (mean(x1), mean(x2), mean(x3), mean(x4))\n",
      "mean_y = (mean(y1), mean(y2), mean(y3), mean(y4))\n",
      "\n",
      "print 'The means of the x sets are:', mean_x\n",
      "print 'The means of the y sets are:', mean_y"
     ],
     "language": "python",
     "metadata": {},
     "outputs": [
      {
       "output_type": "stream",
       "stream": "stdout",
       "text": [
        "The means of the x sets are: (9.0, 9.0, 9.0, 9.0)\n",
        "The means of the y sets are: (7.5009090909090927, 7.500909090909091, 7.5000000000000009, 7.5009090909090901)\n"
       ]
      }
     ],
     "prompt_number": 42
    },
    {
     "cell_type": "code",
     "collapsed": false,
     "input": [
      "#Finding the variance of the data\n",
      "var_x = (var(x1), var(x2), var(x3), var(x4))\n",
      "var_y = (var(y1), var(y2), var(y3), var(y4))\n",
      "\n",
      "print 'The variances of the x sets are:', var_x\n",
      "print 'The variances of the y sets are:', var_y"
     ],
     "language": "python",
     "metadata": {},
     "outputs": [
      {
       "output_type": "stream",
       "stream": "stdout",
       "text": [
        "The variances of the x sets are: (10.0, 10.0, 10.0, 10.0)\n",
        "The variances of the y sets are: (3.7520628099173554, 3.7523900826446277, 3.7478363636363641, 3.7484082644628098)\n"
       ]
      }
     ],
     "prompt_number": 43
    },
    {
     "cell_type": "code",
     "collapsed": false,
     "input": [
      "#Finding the stardard deviation of the data\n",
      "std_x = (std(x1), std(x2), std(x3), std(x4))\n",
      "std_y = (std(y1), std(y2), std(y3), std(y4))\n",
      "\n",
      "print 'The standard deviations of x sets are:', std_x\n",
      "print 'The standard deviations of y sets are:', std_y"
     ],
     "language": "python",
     "metadata": {},
     "outputs": [
      {
       "output_type": "stream",
       "stream": "stdout",
       "text": [
        "The standard deviations of x sets are: (3.1622776601683795, 3.1622776601683795, 3.1622776601683795, 3.1622776601683795)\n",
        "The standard deviations of y sets are: (1.937024215108669, 1.9371086914896201, 1.9359329439927313, 1.9360806451340837)\n"
       ]
      }
     ],
     "prompt_number": 44
    },
    {
     "cell_type": "code",
     "collapsed": false,
     "input": [
      "#finding the polynomial fit of first degree\n",
      "pol_1 = polyfit(x1, y1, 1)\n",
      "pol_2 = polyfit(x2, y2, 1)\n",
      "pol_3 = polyfit(x3, y3, 1)\n",
      "pol_4 = polyfit(x4, y4, 1)"
     ],
     "language": "python",
     "metadata": {},
     "outputs": [],
     "prompt_number": 45
    },
    {
     "cell_type": "code",
     "collapsed": false,
     "input": [
      "plot(pol_1)\n",
      "plot(pol_2,'r')\n",
      "plot(pol_3,'g')\n",
      "plot(pol_4,'c')"
     ],
     "language": "python",
     "metadata": {},
     "outputs": [
      {
       "metadata": {},
       "output_type": "pyout",
       "prompt_number": 46,
       "text": [
        "[<matplotlib.lines.Line2D at 0x499c910>]"
       ]
      },
      {
       "metadata": {},
       "output_type": "display_data",
       "png": "[encoded data removed]",
       "text": [
        "<matplotlib.figure.Figure at 0x228e8d0>"
       ]
      }
     ],
     "prompt_number": 46
    },
    {
     "cell_type": "code",
     "collapsed": false,
     "input": [
      "plot(pol_1)\n",
      "plot(pol_2,'r')\n",
      "plot(pol_3,'g')\n",
      "plot(pol_4,'c')\n",
      "xlim(0.4,0.6)\n",
      "ylim(1.5,2.0)"
     ],
     "language": "python",
     "metadata": {},
     "outputs": [
      {
       "metadata": {},
       "output_type": "pyout",
       "prompt_number": 47,
       "text": [
        "(1.5, 2.0)"
       ]
      },
      {
       "metadata": {},
       "output_type": "display_data",
       "png": "[encoded data removed]",
       "text": [
        "<matplotlib.figure.Figure at 0x4989050>"
       ]
      }
     ],
     "prompt_number": 47
    },
    {
     "cell_type": "code",
     "collapsed": false,
     "input": [
      "print pol_1\n",
      "print pol_2\n",
      "print pol_3\n",
      "print pol_4"
     ],
     "language": "python",
     "metadata": {},
     "outputs": [
      {
       "output_type": "stream",
       "stream": "stdout",
       "text": [
        "[ 0.50009091  3.00009091]\n",
        "[ 0.5         3.00090909]\n",
        "[ 0.49972727  3.00245455]\n",
        "[ 0.49990909  3.00172727]\n"
       ]
      }
     ],
     "prompt_number": 48
    },
    {
     "cell_type": "code",
     "collapsed": false,
     "input": [
      "#Data behavior have almost the same slope and the same y-intersection"
     ],
     "language": "python",
     "metadata": {},
     "outputs": [],
     "prompt_number": 56
    },
    {
     "cell_type": "heading",
     "level": 2,
     "metadata": {},
     "source": [
      "Problem 2."
     ]
    },
    {
     "cell_type": "code",
     "collapsed": false,
     "input": [
      "poly_1 = polyval(pol_1, x1)\n",
      "poly_2 = polyval(pol_2, x2)\n",
      "poly_3 = polyval(pol_3, x3)\n",
      "poly_4 = polyval(pol_4, x4)"
     ],
     "language": "python",
     "metadata": {},
     "outputs": [],
     "prompt_number": 57
    },
    {
     "cell_type": "code",
     "collapsed": false,
     "input": [
      "scatter(x1, y1)\n",
      "plot(x1, poly_1)\n",
      "grid()"
     ],
     "language": "python",
     "metadata": {},
     "outputs": [
      {
       "metadata": {},
       "output_type": "display_data",
       "png": "[encoded data removed]",
       "text": [
        "<matplotlib.figure.Figure at 0x4589610>"
       ]
      }
     ],
     "prompt_number": 58
    },
    {
     "cell_type": "code",
     "collapsed": false,
     "input": [
      "scatter(x2, y2)\n",
      "plot(x2, poly_2,'r')\n",
      "grid()"
     ],
     "language": "python",
     "metadata": {},
     "outputs": [
      {
       "metadata": {},
       "output_type": "display_data",
       "png": "[encoded data removed]",
       "text": [
        "<matplotlib.figure.Figure at 0x3b0acd0>"
       ]
      }
     ],
     "prompt_number": 59
    },
    {
     "cell_type": "code",
     "collapsed": false,
     "input": [
      "scatter(x3, y3)\n",
      "plot(x3, poly_3,'g')\n",
      "grid()"
     ],
     "language": "python",
     "metadata": {},
     "outputs": [
      {
       "metadata": {},
       "output_type": "display_data",
       "png": "[encoded data removed]",
       "text": [
        "<matplotlib.figure.Figure at 0x46851d0>"
       ]
      }
     ],
     "prompt_number": 60
    },
    {
     "cell_type": "code",
     "collapsed": false,
     "input": [
      "scatter(x4, y4)\n",
      "plot(x4, poly_4,'c')\n",
      "grid()"
     ],
     "language": "python",
     "metadata": {},
     "outputs": [
      {
       "metadata": {},
       "output_type": "display_data",
       "png": "[encoded data removed]",
       "text": [
        "<matplotlib.figure.Figure at 0x385cf50>"
       ]
      }
     ],
     "prompt_number": 61
    },
    {
     "cell_type": "code",
     "collapsed": false,
     "input": [
      "#Mean, variance and standard deviation are not so much representative of the data, but only on how they behave."
     ],
     "language": "python",
     "metadata": {},
     "outputs": [],
     "prompt_number": 62
    },
    {
     "cell_type": "heading",
     "level": 2,
     "metadata": {},
     "source": [
      "Problem 3."
     ]
    },
    {
     "cell_type": "heading",
     "level": 4,
     "metadata": {},
     "source": [
      "Part 1."
     ]
    },
    {
     "cell_type": "code",
     "collapsed": false,
     "input": [
      "link_name = 'http://physics.info/curve-fitting/vostok.txt'\n",
      "vostok =  pd.read_csv(link_name, '\\t', header = [0,1])"
     ],
     "language": "python",
     "metadata": {},
     "outputs": [],
     "prompt_number": 63
    },
    {
     "cell_type": "code",
     "collapsed": false,
     "input": [
      "delta_t = vostok.iloc[:, 1]\n",
      "co2 = vostok.iloc[:, 2]\n",
      "dst = vostok.iloc[:, 3]"
     ],
     "language": "python",
     "metadata": {},
     "outputs": [],
     "prompt_number": 64
    },
    {
     "cell_type": "code",
     "collapsed": false,
     "input": [
      "print 'dT mean:',delta_t.mean()\n",
      "print 'dT standard deviation:',delta_t.std()\n",
      "print 'CO2 mean:',co2.mean()\n",
      "print 'CO2 standard deviation:',co2.std()\n",
      "print 'dust mean:',dst.mean()\n",
      "print 'dust standard deviation:',dst.std()"
     ],
     "language": "python",
     "metadata": {},
     "outputs": [
      {
       "output_type": "stream",
       "stream": "stdout",
       "text": [
        "dT mean: -4.54995646438\n",
        "dT standard deviation: 2.86653514621\n",
        "CO2 mean: 227.671071429\n",
        "CO2 standard deviation: 27.6935973893\n",
        "dust mean: 0.22101791923\n",
        "dust standard deviation: 0.279947010958\n"
       ]
      }
     ],
     "prompt_number": 65
    },
    {
     "cell_type": "code",
     "collapsed": false,
     "input": [
      "#From these results, for the Temperature it can be expected to be around -4.5\u00baC plus minus 2.9\u00baC; for the CO2 it can be expcted to be\n",
      "#227.67 ppm plus minus 27.69 ppm; for the Dust it can be expected to be 0.22 ppm plus minus 0.28 ppm."
     ],
     "language": "python",
     "metadata": {},
     "outputs": [],
     "prompt_number": 66
    },
    {
     "cell_type": "heading",
     "level": 4,
     "metadata": {},
     "source": [
      "Part 2."
     ]
    },
    {
     "cell_type": "code",
     "collapsed": false,
     "input": [
      "import pylab as P"
     ],
     "language": "python",
     "metadata": {},
     "outputs": [],
     "prompt_number": 67
    },
    {
     "cell_type": "code",
     "collapsed": false,
     "input": [
      "x1 = delta_t.dropna().values.flatten()\n",
      "res = P.hist(delta_t, 50, normed = True, facecolor = 'green')\n",
      "title('$\\Delta T$')\n",
      "P.axvline(x1.mean(), color='r', linestyle='solid', linewidth=1)\n",
      "P.axvline(x1.mean() - x1.std(), color='c', linestyle='solid', linewidth=1)\n",
      "P.axvline(x1.mean() + x1.std(), color='c', linestyle='solid', linewidth=1)"
     ],
     "language": "python",
     "metadata": {},
     "outputs": [
      {
       "metadata": {},
       "output_type": "pyout",
       "prompt_number": 68,
       "text": [
        "<matplotlib.lines.Line2D at 0x4d9c610>"
       ]
      },
      {
       "metadata": {},
       "output_type": "display_data",
       "png": "[encoded data removed]",
       "text": [
        "<matplotlib.figure.Figure at 0x4d171d0>"
       ]
      }
     ],
     "prompt_number": 68
    },
    {
     "cell_type": "code",
     "collapsed": false,
     "input": [
      "mea_low_1 = (x1 < x1.mean()).tolist().count(True)\n",
      "mea_hig_1 = (x1 > x1.mean()).tolist().count(True)\n",
      "print 'Percentage of values below the mean is:',(mea_low_1/len(x1)*100),'%'\n",
      "print 'Percentage of values above the mean is:',(mea_hig_1/len(x1)*100),'%'\n",
      "mstd_low_1 = (x1 < (x1.mean() - x1.std())).tolist().count(True)\n",
      "mstd_hig_1 = (x1 > (x1.mean() - x1.std())).tolist().count(True)\n",
      "print 'Percentage of values below the standard deviation is:',(mstd_low_1/len(x1)*100),'%'\n",
      "print 'Percentage of values above the standard deviation is:',(mstd_hig_1/len(x1)*100),'%'"
     ],
     "language": "python",
     "metadata": {},
     "outputs": [
      {
       "output_type": "stream",
       "stream": "stdout",
       "text": [
        "Percentage of values below the mean is: 56.437994723 %\n",
        "Percentage of values above the mean is: 43.562005277 %\n",
        "Percentage of values below the standard deviation is: 17.0712401055 %\n",
        "Percentage of values above the standard deviation is: 82.9287598945 %\n"
       ]
      }
     ],
     "prompt_number": 69
    },
    {
     "cell_type": "code",
     "collapsed": false,
     "input": [
      "x2 = co2.dropna().values.flatten()\n",
      "res = P.hist(x2, 50, normed = True, facecolor = 'green')\n",
      "title('CO2')\n",
      "P.axvline(x2.mean(), color='r', linestyle='solid', linewidth=1)\n",
      "P.axvline(x2.mean() - x2.std(), color='c', linestyle='solid', linewidth=1)\n",
      "P.axvline(x2.mean() + x2.std(), color='c', linestyle='solid', linewidth=1)"
     ],
     "language": "python",
     "metadata": {},
     "outputs": [
      {
       "metadata": {},
       "output_type": "pyout",
       "prompt_number": 70,
       "text": [
        "<matplotlib.lines.Line2D at 0x51a7210>"
       ]
      },
      {
       "metadata": {},
       "output_type": "display_data",
       "png": "[encoded data removed]",
       "text": [
        "<matplotlib.figure.Figure at 0x4da9410>"
       ]
      }
     ],
     "prompt_number": 70
    },
    {
     "cell_type": "code",
     "collapsed": false,
     "input": [
      "mea_low_2 = (x2 < x2.mean()).tolist().count(True)\n",
      "mea_hig_2 = (x2 > x2.mean()).tolist().count(True)\n",
      "print 'Percentage of values below the mean is:',(mea_low_2/len(x2)*100),'%'\n",
      "print 'Percentage of values above the mean is:',(mea_hig_2/len(x2)*100),'%'\n",
      "mstd_low_2 = (x2 < (x2.mean() - x2.std())).tolist().count(True)\n",
      "mstd_hig_2 = (x2 > (x2.mean() - x2.std())).tolist().count(True)\n",
      "print 'Percentage of values below the standard deviation is:',(mstd_low_2/len(x2)*100),'%'\n",
      "print 'Percentage of values above the standard deviation is:',(mstd_hig_2/len(x2)*100),'%'"
     ],
     "language": "python",
     "metadata": {},
     "outputs": [
      {
       "output_type": "stream",
       "stream": "stdout",
       "text": [
        "Percentage of values below the mean is: 51.8253968254 %\n",
        "Percentage of values above the mean is: 48.1746031746 %\n",
        "Percentage of values below the standard deviation is: 20.9788359788 %\n",
        "Percentage of values above the standard deviation is: 79.0211640212 %\n"
       ]
      }
     ],
     "prompt_number": 71
    },
    {
     "cell_type": "code",
     "collapsed": false,
     "input": [
      "x3 = dst.dropna().values.flatten()\n",
      "res = P.hist(x3, 50, normed = True, facecolor = 'green')\n",
      "title('Dust')\n",
      "P.axvline(x3.mean(), color='r', linestyle='solid', linewidth=1)\n",
      "P.axvline(x3.mean() - x3.std(), color='c', linestyle='solid', linewidth=1)\n",
      "P.axvline(x3.mean() + x3.std(), color='c', linestyle='solid', linewidth=1)"
     ],
     "language": "python",
     "metadata": {},
     "outputs": [
      {
       "metadata": {},
       "output_type": "pyout",
       "prompt_number": 72,
       "text": [
        "<matplotlib.lines.Line2D at 0x5507a50>"
       ]
      },
      {
       "metadata": {},
       "output_type": "display_data",
       "png": "[encoded data removed]",
       "text": [
        "<matplotlib.figure.Figure at 0x5028290>"
       ]
      }
     ],
     "prompt_number": 72
    },
    {
     "cell_type": "code",
     "collapsed": false,
     "input": [
      "mea_low_3 = (x3 < x3.mean()).tolist().count(True)\n",
      "mea_hig_3 = (x3 > x3.mean()).tolist().count(True)\n",
      "print 'Percentage of values below the mean is:',(mea_low_3/len(x3)*100),'%'\n",
      "print 'Percentage of values above the mean is:',(mea_hig_3/len(x3)*100),'%'\n",
      "mstd_low_3 = (x3 < (x3.mean() - x3.std())).tolist().count(True)\n",
      "mstd_hig_3 = (x3 > (x3.mean() - x3.std())).tolist().count(True)\n",
      "print 'Percentage of values below the standard deviation is:',(mstd_low_3/len(x3)*100),'%'\n",
      "print 'Percentage of values above the standard deviation is:',(mstd_hig_3/len(x3)*100),'%'"
     ],
     "language": "python",
     "metadata": {},
     "outputs": [
      {
       "output_type": "stream",
       "stream": "stdout",
       "text": [
        "Percentage of values below the mean is: 71.4629580102 %\n",
        "Percentage of values above the mean is: 28.5370419898 %\n",
        "Percentage of values below the standard deviation is: 0.0 %\n",
        "Percentage of values above the standard deviation is: 100.0 %\n"
       ]
      }
     ],
     "prompt_number": 73
    },
    {
     "cell_type": "code",
     "collapsed": false,
     "input": [
      "#I tried to outline the histograms but all my attempts failed."
     ],
     "language": "python",
     "metadata": {},
     "outputs": [],
     "prompt_number": 74
    }
   ],
   "metadata": {}
  }
 ]
}