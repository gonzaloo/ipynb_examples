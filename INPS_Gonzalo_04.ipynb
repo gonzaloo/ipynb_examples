{
 "metadata": {
  "name": "",
  "signature": "sha256:23d1b83c74ab7ca072e8eee01c464cb715f110262d2b42ee61b645fa347446cf"
 },
 "nbformat": 3,
 "nbformat_minor": 0,
 "worksheets": [
  {
   "cells": [
    {
     "cell_type": "code",
     "collapsed": false,
     "input": [
      "%pylab inline\n",
      "from __future__ import division\n",
      "import math\n",
      "import numpy"
     ],
     "language": "python",
     "metadata": {},
     "outputs": [
      {
       "output_type": "stream",
       "stream": "stdout",
       "text": [
        "Populating the interactive namespace from numpy and matplotlib\n"
       ]
      }
     ],
     "prompt_number": 1
    },
    {
     "cell_type": "heading",
     "level": 1,
     "metadata": {},
     "source": [
      "Week 3. Iterative solutions"
     ]
    },
    {
     "cell_type": "heading",
     "level": 2,
     "metadata": {},
     "source": [
      "Gonzalo Antonio Orellana Garcia"
     ]
    },
    {
     "cell_type": "heading",
     "level": 3,
     "metadata": {},
     "source": [
      "Introduction to Numerical Problem Solving, Metropolia UAS Helsinki"
     ]
    },
    {
     "cell_type": "heading",
     "level": 2,
     "metadata": {},
     "source": [
      "Exercise 1.1. Simple \"while\" loops"
     ]
    },
    {
     "cell_type": "code",
     "collapsed": false,
     "input": [
      "#Write a program that prints the positive integers 1, 3, 5, 7, ..., 99\n",
      "a1 = 1\n",
      "while (a1 < 100):\n",
      "    print a1,\n",
      "    a1 = a1 + 2\n",
      "print \"Done.\""
     ],
     "language": "python",
     "metadata": {},
     "outputs": [
      {
       "output_type": "stream",
       "stream": "stdout",
       "text": [
        "1 3 5 7 9 11 13 15 17 19 21 23 25 27 29 31 33 35 37 39 41 43 45 47 49 51 53 55 57 59 61 63 65 67 69 71 73 75 77 79 81 83 85 87 89 91 93 95 97 99 Done.\n"
       ]
      }
     ],
     "prompt_number": 2
    },
    {
     "cell_type": "code",
     "collapsed": false,
     "input": [
      "#Write a program that prints the Fibonacci series 1, 1, 2, 3, 5, 8, 13, 21, 34, 55, 89, 144, ...\n",
      "a2,b2 = 0,1\n",
      "while (b2 < 1000):\n",
      "    print b2,\",\",\n",
      "    a2, b2 = b2, a2+b2\n",
      "print \"Done.\""
     ],
     "language": "python",
     "metadata": {},
     "outputs": [
      {
       "output_type": "stream",
       "stream": "stdout",
       "text": [
        "1 , 1 , 2 , 3 , 5 , 8 , 13 , 21 , 34 , 55 , 89 , 144 , 233 , 377 , 610 , 987 , Done.\n"
       ]
      }
     ],
     "prompt_number": 3
    },
    {
     "cell_type": "code",
     "collapsed": false,
     "input": [
      "#Write a program that prints the sequence 1.05, 1.1025, 1.21550625, 1.47745544379, 2.18287458838, 4.7649414686\n",
      "a3 = 1.05\n",
      "while (a3 < 5):\n",
      "    print a3, \",\",\n",
      "    a3 = a3 * a3\n",
      "print \"Done.\""
     ],
     "language": "python",
     "metadata": {},
     "outputs": [
      {
       "output_type": "stream",
       "stream": "stdout",
       "text": [
        "1.05 , 1.1025 , 1.21550625 , 1.47745544379 , 2.18287458838 , 4.7649414686 , Done.\n"
       ]
      }
     ],
     "prompt_number": 4
    },
    {
     "cell_type": "code",
     "collapsed": false,
     "input": [
      "#Write a program that prints the geometric progression 1.05, 1.1025, 1.157625, 1.21550625, 1.2762815625, 1.34009564063\n",
      "for n in range(6):\n",
      "    a4 = 1.05 ** (n + 1)\n",
      "    print a4, \",\",\n",
      "print \"Done.\""
     ],
     "language": "python",
     "metadata": {},
     "outputs": [
      {
       "output_type": "stream",
       "stream": "stdout",
       "text": [
        "1.05 , 1.1025 , 1.157625 , 1.21550625 , 1.2762815625 , 1.34009564063 , Done.\n"
       ]
      }
     ],
     "prompt_number": 5
    },
    {
     "cell_type": "heading",
     "level": 2,
     "metadata": {},
     "source": [
      "Exercise 1.2. More control flow tools"
     ]
    },
    {
     "cell_type": "code",
     "collapsed": false,
     "input": [
      "#Make an if statement that checks if x equals C\n",
      "c1 = 45\n",
      "x1 = int(raw_input(\"Please guess a number between 0 and 100: \"))\n",
      "if x1 == c1:\n",
      "    print \"You've guessed! Congratulations!\"\n",
      "elif x1 < c1:\n",
      "    print \"Your guess was lower than the number.\"\n",
      "elif x1 > c1:\n",
      "    print \"Your guess was higher than the number.\"\n",
      "    "
     ],
     "language": "python",
     "metadata": {},
     "outputs": [
      {
       "name": "stdout",
       "output_type": "stream",
       "stream": "stdout",
       "text": [
        "Please guess a number between 0 and 100: 55\n"
       ]
      },
      {
       "output_type": "stream",
       "stream": "stdout",
       "text": [
        "Your guess was higher than the number.\n"
       ]
      }
     ],
     "prompt_number": 6
    },
    {
     "cell_type": "code",
     "collapsed": false,
     "input": [
      "#Make a function my_check(x, c) that checks if x equals to c and returns value True or False\n",
      "def my_check(x2):\n",
      "    c2 = 45\n",
      "    if x2 == c2:\n",
      "        print \"You've guessed! Congratulations!\"\n",
      "    elif x2 < c2:\n",
      "        print \"Your guess was lower than the number.\"\n",
      "    elif x2 > c2:\n",
      "        print \"Your guess was higher than the number.\""
     ],
     "language": "python",
     "metadata": {},
     "outputs": [],
     "prompt_number": 30
    },
    {
     "cell_type": "code",
     "collapsed": false,
     "input": [
      "my_check(54)"
     ],
     "language": "python",
     "metadata": {},
     "outputs": [
      {
       "output_type": "stream",
       "stream": "stdout",
       "text": [
        "Your guess was higher than the number.\n"
       ]
      }
     ],
     "prompt_number": 31
    },
    {
     "cell_type": "code",
     "collapsed": false,
     "input": [
      "#Make a for loop that loops the values of x and checks if it equals to given constant C\n",
      "c3 = 45\n",
      "a3 = int(raw_input(\"Please enter the lower limit: \"))\n",
      "b3 = int(raw_input(\"Please enter the higher limit: \"))\n",
      "for x3 in range(a3, b3+1):\n",
      "    if x3 < c3:\n",
      "        print x3,\",\",\n",
      "        print \"x is lower than c.\"\n",
      "        x3 = x3 + 1\n",
      "    elif x3 == c3:\n",
      "        print x3,\",\",\n",
      "        print \"x is equal to c.\"\n",
      "    elif x3 > c3:\n",
      "        print x3,\",\",\n",
      "        print \"x is greater than c.\"\n",
      "        x3 = x3 - 1"
     ],
     "language": "python",
     "metadata": {},
     "outputs": [
      {
       "name": "stdout",
       "output_type": "stream",
       "stream": "stdout",
       "text": [
        "Please enter the lower limit: 35\n"
       ]
      },
      {
       "name": "stdout",
       "output_type": "stream",
       "stream": "stdout",
       "text": [
        "Please enter the higher limit: 55\n"
       ]
      },
      {
       "output_type": "stream",
       "stream": "stdout",
       "text": [
        "35 , x is lower than c.\n",
        "36 , x is lower than c.\n",
        "37 , x is lower than c.\n",
        "38 , x is lower than c.\n",
        "39 , x is lower than c.\n",
        "40 , x is lower than c.\n",
        "41 , x is lower than c.\n",
        "42 , x is lower than c.\n",
        "43 , x is lower than c.\n",
        "44 , x is lower than c.\n",
        "45 , x is equal to c.\n",
        "46 , x is greater than c.\n",
        "47 , x is greater than c.\n",
        "48 , x is greater than c.\n",
        "49 , x is greater than c.\n",
        "50 , x is greater than c.\n",
        "51 , x is greater than c.\n",
        "52 , x is greater than c.\n",
        "53 , x is greater than c.\n",
        "54 , x is greater than c.\n",
        "55 , x is greater than c.\n"
       ]
      }
     ],
     "prompt_number": 32
    },
    {
     "cell_type": "heading",
     "level": 2,
     "metadata": {},
     "source": [
      "Problem 1. Finding cubic root by iteration"
     ]
    },
    {
     "cell_type": "code",
     "collapsed": false,
     "input": [
      "c4 = 1092727\n",
      "xa = int(raw_input(\"Please enter the lower limit:\"))\n",
      "xb = int(raw_input(\"Please enter the higher limit:\"))\n",
      "\n",
      "if xa**3 > c4 or xb**3 < c4 :\n",
      "    print \"Please change the limits.\"\n",
      "    \n",
      "else:\n",
      "    xc = abs(c4 - xa**3)\n",
      "    xd = abs(c4 - xb**3)\n",
      "    \n",
      "    if xc < xd:\n",
      "        print \"Using the lower limit.\"\n",
      "        while (xa**3 <= c4):\n",
      "            xa = xa + 0.01\n",
      "        print \"The cubic root of \", c4, \" is \", xa\n",
      "        \n",
      "    if xd < xc:\n",
      "        print \"Using the higher limit.\"\n",
      "        while (xb**3 >= c4):\n",
      "            xb = xb - 0.01\n",
      "        print \"The cubic root of \", c4, \" is \", xb"
     ],
     "language": "python",
     "metadata": {},
     "outputs": [
      {
       "name": "stdout",
       "output_type": "stream",
       "stream": "stdout",
       "text": [
        "Please enter the lower limit:0\n"
       ]
      },
      {
       "name": "stdout",
       "output_type": "stream",
       "stream": "stdout",
       "text": [
        "Please enter the higher limit:200\n"
       ]
      },
      {
       "output_type": "stream",
       "stream": "stdout",
       "text": [
        "Using the lower limit.\n",
        "The cubic root of  1092727  is  103.0\n"
       ]
      }
     ],
     "prompt_number": 7
    },
    {
     "cell_type": "code",
     "collapsed": false,
     "input": [
      "c4 = int(raw_input(\"Please enter the number you want to know its cubic root:\"))\n",
      "xa = int(raw_input(\"Please enter the lower limit:\"))\n",
      "xb = int(raw_input(\"Please enter the higher limit:\"))\n",
      "\n",
      "if xa**3 > c4 or xb**3 < c4 :\n",
      "    print \"Please change the limits.\"\n",
      "    \n",
      "else:\n",
      "    xc = abs(c4 - xa**3)\n",
      "    xd = abs(c4 - xb**3)\n",
      "    \n",
      "    if xc < xd:\n",
      "        print \"Using the lower limit.\"\n",
      "        while (xa**3 <= c4):\n",
      "            xa = xa + 0.01\n",
      "        print \"The cubic root of \", c4, \" is \", xa\n",
      "        \n",
      "    if xd < xc:\n",
      "        print \"Using the higher limit.\"\n",
      "        while (xb**3 >= c4):\n",
      "            xb = xb - 0.01\n",
      "        print \"The cubic root of \", c4, \" is \", xb"
     ],
     "language": "python",
     "metadata": {},
     "outputs": [
      {
       "name": "stdout",
       "output_type": "stream",
       "stream": "stdout",
       "text": [
        "Please enter the number you want to know its cubic root:612349756\n"
       ]
      },
      {
       "name": "stdout",
       "output_type": "stream",
       "stream": "stdout",
       "text": [
        "Please enter the lower limit:0\n"
       ]
      },
      {
       "name": "stdout",
       "output_type": "stream",
       "stream": "stdout",
       "text": [
        "Please enter the higher limit:2000\n"
       ]
      },
      {
       "output_type": "stream",
       "stream": "stdout",
       "text": [
        "Using the lower limit.\n",
        "The cubic root of  612349756  is  849.189999999\n"
       ]
      }
     ],
     "prompt_number": 34
    },
    {
     "cell_type": "heading",
     "level": 2,
     "metadata": {},
     "source": [
      "Exercise 1. Error estimation"
     ]
    },
    {
     "cell_type": "code",
     "collapsed": false,
     "input": [
      "x = arange(10)\n",
      "k = 0.5\n",
      "y_fit = k*x\n",
      "y = y_fit + randn(size(x))"
     ],
     "language": "python",
     "metadata": {},
     "outputs": [],
     "prompt_number": 2
    },
    {
     "cell_type": "code",
     "collapsed": false,
     "input": [
      "plot(x, y, 'o')\n",
      "plot(x, y_fit, 's-')"
     ],
     "language": "python",
     "metadata": {},
     "outputs": [
      {
       "metadata": {},
       "output_type": "pyout",
       "prompt_number": 3,
       "text": [
        "[<matplotlib.lines.Line2D at 0x18d5250>]"
       ]
      },
      {
       "metadata": {},
       "output_type": "display_data",
       "png": "[encoded data removed]",
       "text": [
        "<matplotlib.figure.Figure at 0x2192ad0>"
       ]
      }
     ],
     "prompt_number": 3
    },
    {
     "cell_type": "markdown",
     "metadata": {},
     "source": [
      "How much is the error in average? E.g. Calculate by looping the value of eave=1N\u2211N\u22121n=0(y[n]\u2212yfit[n]) ?"
     ]
    },
    {
     "cell_type": "code",
     "collapsed": false,
     "input": [
      "e_ave1 = 0\n",
      "for n1 in range(len(y)-1):\n",
      "    e_ave1 = e_ave1 + (y[n1] - y_fit[n1])\n",
      "e_ave1 = (e_ave1)/len(y)\n",
      "\n",
      "print \"The average error is: \",e_ave1"
     ],
     "language": "python",
     "metadata": {},
     "outputs": [
      {
       "output_type": "stream",
       "stream": "stdout",
       "text": [
        "The average error is:  -0.35745000432\n"
       ]
      }
     ],
     "prompt_number": 4
    },
    {
     "cell_type": "code",
     "collapsed": false,
     "input": [
      "# - The average of errors could even give zero as it is only the difference of each value, and therefore, it doesn't give useful information.\n",
      "# - To eliminate the possibility of the error being zero we can square it and then take the square root of the result.\n",
      "# - Also the error could be compared directly to the data, that could give more useful information about the model and the actual data."
     ],
     "language": "python",
     "metadata": {},
     "outputs": [],
     "prompt_number": 5
    },
    {
     "cell_type": "code",
     "collapsed": false,
     "input": [
      "len(y)"
     ],
     "language": "python",
     "metadata": {},
     "outputs": [
      {
       "metadata": {},
       "output_type": "pyout",
       "prompt_number": 6,
       "text": [
        "10"
       ]
      }
     ],
     "prompt_number": 6
    },
    {
     "cell_type": "code",
     "collapsed": false,
     "input": [
      "range(len(y))"
     ],
     "language": "python",
     "metadata": {},
     "outputs": [
      {
       "metadata": {},
       "output_type": "pyout",
       "prompt_number": 7,
       "text": [
        "[0, 1, 2, 3, 4, 5, 6, 7, 8, 9]"
       ]
      }
     ],
     "prompt_number": 7
    },
    {
     "cell_type": "code",
     "collapsed": false,
     "input": [
      "e_ave2 = 0\n",
      "for n2 in range(len(y)-1):\n",
      "    e_ave2 = e_ave2 + (y[n2] - y_fit[n2])\n",
      "e_ave2 = (e_ave2)/len(y)\n",
      "\n",
      "print \"The average error is: \",e_ave1"
     ],
     "language": "python",
     "metadata": {},
     "outputs": [
      {
       "output_type": "stream",
       "stream": "stdout",
       "text": [
        "The average error is:  -0.35745000432\n"
       ]
      }
     ],
     "prompt_number": 8
    },
    {
     "cell_type": "heading",
     "level": 2,
     "metadata": {},
     "source": [
      "Exercise 2.2. Error estimation II"
     ]
    },
    {
     "cell_type": "code",
     "collapsed": false,
     "input": [
      "e_ave3 = 0\n",
      "for n3 in range(len(y)-1):\n",
      "    e_ave3 = e_ave3 + abs((y[n3] - y_fit[n3]))\n",
      "e_ave3 = (e_ave3)/len(y)\n",
      "\n",
      "print \"The average error is: \",e_ave3"
     ],
     "language": "python",
     "metadata": {},
     "outputs": [
      {
       "output_type": "stream",
       "stream": "stdout",
       "text": [
        "The average error is:  0.541634677585\n"
       ]
      }
     ],
     "prompt_number": 9
    },
    {
     "cell_type": "code",
     "collapsed": false,
     "input": [
      "e_ave4 = 0\n",
      "for n4 in range(len(y)-1):\n",
      "    e_ave4 = e_ave4 + math.sqrt((y[n4] - y_fit[n4])**2)\n",
      "e_ave4 = (e_ave4)/len(y)\n",
      "\n",
      "print \"The average error is: \",e_ave4"
     ],
     "language": "python",
     "metadata": {},
     "outputs": [
      {
       "output_type": "stream",
       "stream": "stdout",
       "text": [
        "The average error is:  0.541634677585\n"
       ]
      }
     ],
     "prompt_number": 10
    },
    {
     "cell_type": "code",
     "collapsed": false,
     "input": [
      "#I think the correct error estimations doesn't have the square root applied to the \"1/N\" because that alters the average.\n",
      "#there's no difference between the two error estimation because the absolute value is the same thing than the square root of a squared number."
     ],
     "language": "python",
     "metadata": {},
     "outputs": [],
     "prompt_number": 11
    },
    {
     "cell_type": "heading",
     "level": 2,
     "metadata": {},
     "source": [
      "Problem 2. Curve fitting by minimizing the error"
     ]
    },
    {
     "cell_type": "code",
     "collapsed": false,
     "input": [
      "k_est=arange(0,3.6,0.1)\n",
      "print k_est[1]"
     ],
     "language": "python",
     "metadata": {},
     "outputs": [
      {
       "output_type": "stream",
       "stream": "stdout",
       "text": [
        "0.1\n"
       ]
      }
     ],
     "prompt_number": 12
    },
    {
     "cell_type": "code",
     "collapsed": false,
     "input": [
      "i=0\n",
      "j=0\n",
      "err1=0\n",
      "k_use=0\n",
      "\n",
      "list=[]\n",
      "for i in range(len(k_est)):\n",
      "    y_est = k_est[i] * x\n",
      "    for j in range(len(y)-1):\n",
      "        err1 = abs((y[j]-y_est[j]))\n",
      "    err1 = err1/len(y)\n",
      "    list.append(err1)\n",
      "    if k_est[i] == 0:\n",
      "        min = list[0]\n",
      "    if err1 < min:\n",
      "        min = err1\n",
      "        k_use = k_est[i]\n",
      "    print k_est[i],err1\n",
      "\n",
      "print k_use"
     ],
     "language": "python",
     "metadata": {},
     "outputs": [
      {
       "output_type": "stream",
       "stream": "stdout",
       "text": [
        "0.0 0.355291171009\n",
        "0.1 0.275291171009\n",
        "0.2 0.195291171009\n",
        "0.3 0.115291171009\n",
        "0.4 0.0352911710092\n",
        "0.5 0.0447088289908\n",
        "0.6 0.124708828991\n",
        "0.7 0.204708828991\n",
        "0.8 0.284708828991\n",
        "0.9 0.364708828991\n",
        "1.0 0.444708828991\n",
        "1.1 0.524708828991\n",
        "1.2 0.604708828991\n",
        "1.3 0.684708828991\n",
        "1.4 0.764708828991\n",
        "1.5 0.844708828991\n",
        "1.6 0.924708828991\n",
        "1.7 1.00470882899\n",
        "1.8 1.08470882899\n",
        "1.9 1.16470882899\n",
        "2.0 1.24470882899\n",
        "2.1 1.32470882899\n",
        "2.2 1.40470882899\n",
        "2.3 1.48470882899\n",
        "2.4 1.56470882899\n",
        "2.5 1.64470882899\n",
        "2.6 1.72470882899\n",
        "2.7 1.80470882899\n",
        "2.8 1.88470882899\n",
        "2.9 1.96470882899\n",
        "3.0 2.04470882899\n",
        "3.1 2.12470882899\n",
        "3.2 2.20470882899\n",
        "3.3 2.28470882899\n",
        "3.4 2.36470882899\n",
        "3.5 2.44470882899\n",
        "0.4\n"
       ]
      }
     ],
     "prompt_number": 24
    },
    {
     "cell_type": "code",
     "collapsed": false,
     "input": [
      "y_use = k_use * x\n",
      "plot(x, y, 'o')\n",
      "plot(x, y_use, 'd-')"
     ],
     "language": "python",
     "metadata": {},
     "outputs": [
      {
       "metadata": {},
       "output_type": "pyout",
       "prompt_number": 26,
       "text": [
        "[<matplotlib.lines.Line2D at 0x2575850>]"
       ]
      },
      {
       "metadata": {},
       "output_type": "display_data",
       "png": "[encoded data removed]",
       "text": [
        "<matplotlib.figure.Figure at 0x2575250>"
       ]
      }
     ],
     "prompt_number": 26
    },
    {
     "cell_type": "code",
     "collapsed": false,
     "input": [
      "p = polyfit(x, y, 1)\n",
      "y_polyfit = polyval(p, x)\n",
      "plot(x, y, 'o')\n",
      "plot(x,y_use, 'gd-')\n",
      "plot(x, y_polyfit, 'rs-')"
     ],
     "language": "python",
     "metadata": {},
     "outputs": [
      {
       "metadata": {},
       "output_type": "pyout",
       "prompt_number": 29,
       "text": [
        "[<matplotlib.lines.Line2D at 0x2e15b10>]"
       ]
      },
      {
       "metadata": {},
       "output_type": "display_data",
       "png": "[encoded data removed]",
       "text": [
        "<matplotlib.figure.Figure at 0x2a99a50>"
       ]
      }
     ],
     "prompt_number": 29
    },
    {
     "cell_type": "code",
     "collapsed": false,
     "input": [],
     "language": "python",
     "metadata": {},
     "outputs": []
    }
   ],
   "metadata": {}
  }
 ]
}